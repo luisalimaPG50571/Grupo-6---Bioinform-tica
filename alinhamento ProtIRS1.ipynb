{
 "cells": [
  {
   "cell_type": "code",
   "execution_count": 1,
   "id": "097e1cec",
   "metadata": {},
   "outputs": [],
   "source": [
    "from Bio.Blast import NCBIXML\n",
    "from Bio.Blast import NCBIWWW\n",
    "from Bio import SeqIO\n",
    "from Bio import Entrez\n"
   ]
  },
  {
   "cell_type": "code",
   "execution_count": 2,
   "id": "925e992f",
   "metadata": {},
   "outputs": [],
   "source": [
    "#Este ficheiro guarda em formato fasta as sequências homólogas obtidas para poderem servir de input para programas de construção de árvores filogenéticas\n",
    "registo=SeqIO.read(open(\"ProtIRS1.fasta\"), format=\"fasta\")"
   ]
  },
  {
   "cell_type": "code",
   "execution_count": null,
   "id": "2c24c011",
   "metadata": {},
   "outputs": [],
   "source": [
    "result_handle=NCBIWWW.qblast(\"blastp\", \"nr\", registo.format(\"fasta\"))"
   ]
  },
  {
   "cell_type": "code",
   "execution_count": null,
   "id": "b22c7547",
   "metadata": {},
   "outputs": [],
   "source": [
    "save_file=open(\"blast-ProtIRS1.xml\",\"w\")\n",
    "save_file.write(result_handle.read())\n",
    "save_file.close()\n",
    "result_handle.close()"
   ]
  },
  {
   "cell_type": "code",
   "execution_count": null,
   "id": "b444dd6a",
   "metadata": {},
   "outputs": [],
   "source": [
    "result_handle=open(\"blast-ProtIRS1.xml\")\n",
    "record=NCBIXML.read(result_handle)"
   ]
  },
  {
   "cell_type": "code",
   "execution_count": null,
   "id": "eb4499d0",
   "metadata": {},
   "outputs": [],
   "source": [
    "nhits=len(record.alignments)\n",
    "print(\"number hits:\", nhits)\n",
    "\n",
    "Entrez.email='joanaipborges@gmail.com'"
   ]
  },
  {
   "cell_type": "code",
   "execution_count": null,
   "id": "733c9c5a",
   "metadata": {},
   "outputs": [],
   "source": [
    "res=[]\n",
    "for alignment in record.alignments:\n",
    "    evalue=alignment.hsps[0].expect\n",
    "    acession=alignment.accession\n",
    "    leng=alignment.hsps[0].align_length\n",
    "    \n",
    "    #guardar em ficheiro fasta as sequências homólogas obtidas\n",
    "    handle=Entrez.efetch(db=\"protein\", id=acession, rettype=\"fasta\", retmode=\"text\")\n",
    "    seq_record=SeqIO.read(handle,\"fasta\")\n",
    "    SeqIO.write(seq_record, acession + '.fasta', \"fasta\")\n",
    "    handle.close()\n",
    "    \n",
    "    res.append(acession + \"-\" + str(evalue) + \"length:\" + str(leng))\n",
    "print(\"E-values and length of alignments:\")\n",
    "for s in res: print(s)"
   ]
  },
  {
   "cell_type": "code",
   "execution_count": null,
   "id": "3bcb30dc",
   "metadata": {},
   "outputs": [],
   "source": []
  },
  {
   "cell_type": "code",
   "execution_count": null,
   "id": "2277a9bb",
   "metadata": {},
   "outputs": [],
   "source": []
  }
 ],
 "metadata": {
  "kernelspec": {
   "display_name": "Python 3 (ipykernel)",
   "language": "python",
   "name": "python3"
  },
  "language_info": {
   "codemirror_mode": {
    "name": "ipython",
    "version": 3
   },
   "file_extension": ".py",
   "mimetype": "text/x-python",
   "name": "python",
   "nbconvert_exporter": "python",
   "pygments_lexer": "ipython3",
   "version": "3.9.12"
  }
 },
 "nbformat": 4,
 "nbformat_minor": 5
}
