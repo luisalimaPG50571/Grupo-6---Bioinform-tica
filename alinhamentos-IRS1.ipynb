{
 "cells": [
  {
   "cell_type": "code",
   "execution_count": 11,
   "id": "097e1cec",
   "metadata": {},
   "outputs": [],
   "source": [
    "from Bio.Blast import NCBIXML\n",
    "from Bio.Blast import NCBIWWW\n",
    "from Bio import SeqIO\n",
    "from Bio import Entrez"
   ]
  },
  {
   "cell_type": "code",
   "execution_count": 12,
   "id": "925e992f",
   "metadata": {},
   "outputs": [],
   "source": [
    "registo=SeqIO.read(open(\"ProtIRS1.fasta\"), format=\"fasta\")"
   ]
  },
  {
   "cell_type": "code",
   "execution_count": 13,
   "id": "2c24c011",
   "metadata": {},
   "outputs": [],
   "source": [
    "result_handle=NCBIWWW.qblast(\"blastp\", \"swissprot\", registo.format(\"fasta\"))"
   ]
  },
  {
   "cell_type": "code",
   "execution_count": 14,
   "id": "b22c7547",
   "metadata": {},
   "outputs": [],
   "source": [
    "save_file=open(\"blast-ProtIRS1.xml\",\"w\")\n",
    "save_file.write(result_handle.read())\n",
    "save_file.close()\n",
    "result_handle.close()"
   ]
  },
  {
   "cell_type": "code",
   "execution_count": 15,
   "id": "b444dd6a",
   "metadata": {},
   "outputs": [],
   "source": [
    "result_handle=open(\"blast-ProtIRS1.xml\")\n",
    "record=NCBIXML.read(result_handle)"
   ]
  },
  {
   "cell_type": "code",
   "execution_count": 16,
   "id": "eb4499d0",
   "metadata": {},
   "outputs": [
    {
     "name": "stdout",
     "output_type": "stream",
     "text": [
      "number hits: 32\n"
     ]
    }
   ],
   "source": [
    "nhits=len(record.alignments)\n",
    "print(\"number hits:\", nhits)"
   ]
  },
  {
   "cell_type": "code",
   "execution_count": 17,
   "id": "733c9c5a",
   "metadata": {},
   "outputs": [
    {
     "name": "stdout",
     "output_type": "stream",
     "text": [
      "E-values and length of alignments:\n",
      "P35568 - 0.0 length:1243\n",
      "Q28224 - 0.0 length:1254\n",
      "P35570 - 0.0 length:1249\n",
      "P35569 - 0.0 length:1247\n",
      "P84770 - 0.0 length:1277\n",
      "Q91615 - 0.0 length:1064\n",
      "Q9DF49 - 2.22159e-178 length:1193\n",
      "Q5RJW5 - 2.86095e-174 length:1201\n",
      "P81122 - 1.25938e-158 length:966\n",
      "Q9Y4H2 - 2.34516e-156 length:971\n",
      "Q6P4Y6 - 6.30894e-101 length:310\n",
      "Q9Z0Y7 - 7.49656e-74 length:318\n",
      "B3N946 - 3.77097e-39 length:301\n",
      "B4NZ70 - 1.43924e-38 length:301\n",
      "B4HWI2 - 1.59657e-38 length:398\n",
      "Q9XTN2 - 2.16685e-38 length:301\n",
      "B3MPN6 - 4.40281e-38 length:299\n",
      "Q9Z1S8 - 2.26669e-08 length:140\n",
      "Q9EQH1 - 2.57659e-08 length:140\n",
      "Q9UQC2 - 1.74617e-07 length:137\n",
      "Q99PF6 - 1.50549e-06 length:125\n",
      "A6QLU3 - 1.92771e-06 length:126\n",
      "Q13480 - 2.19065e-06 length:110\n",
      "Q9QYY0 - 4.68055e-06 length:110\n",
      "Q2WGN9 - 2.5139e-05 length:117\n",
      "Q8WWW8 - 7.72592e-05 length:111\n",
      "Q8TEW6 - 0.000102893 length:267\n",
      "Q99KE3 - 0.000342528 length:267\n",
      "O14654 - 0.00107191 length:74\n",
      "Q5RA30 - 0.00213091 length:267\n",
      "A7MBB8 - 0.0490141 length:232\n",
      "A0A0J9U3L6 - 9.43317 length:98\n"
     ]
    }
   ],
   "source": [
    "res=[]\n",
    "for alignment in record.alignments:\n",
    "    evalue=alignment.hsps[0].expect\n",
    "    acession=alignment.accession\n",
    "    leng=alignment.hsps[0].align_length\n",
    "    \n",
    "    #guardar em ficheiro fasta as sequências homólogas obtidas\n",
    "    handle=Entrez.efetch(db=\"protein\", id=acession, rettype=\"fasta\", retmode=\"text\")\n",
    "    seq_record=SeqIO.read(handle,\"fasta\")\n",
    "    SeqIO.write(seq_record, acession + '.fasta', \"fasta\")\n",
    "    handle.close()\n",
    "    \n",
    "    res.append(acession + \" - \" + str(evalue) + \" length:\" + str(leng))\n",
    "print(\"E-values and length of alignments:\")\n",
    "for s in res: print(s)"
   ]
  }
 ],
 "metadata": {
  "kernelspec": {
   "display_name": "Python 3 (ipykernel)",
   "language": "python",
   "name": "python3"
  },
  "language_info": {
   "codemirror_mode": {
    "name": "ipython",
    "version": 3
   },
   "file_extension": ".py",
   "mimetype": "text/x-python",
   "name": "python",
   "nbconvert_exporter": "python",
   "pygments_lexer": "ipython3",
   "version": "3.9.13"
  }
 },
 "nbformat": 4,
 "nbformat_minor": 5
}
