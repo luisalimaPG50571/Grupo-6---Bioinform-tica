{
 "cells": [
  {
   "cell_type": "code",
   "execution_count": 17,
   "id": "097e1cec",
   "metadata": {},
   "outputs": [],
   "source": [
    "from Bio.Blast import NCBIXML\n",
    "from Bio.Blast import NCBIWWW\n",
    "from Bio import SeqIO\n",
    "from Bio import Entrez"
   ]
  },
  {
   "cell_type": "code",
   "execution_count": 18,
   "id": "925e992f",
   "metadata": {},
   "outputs": [],
   "source": [
    "registo=SeqIO.read(open(\"ProtKLF14.fasta\"), format=\"fasta\")"
   ]
  },
  {
   "cell_type": "code",
   "execution_count": 19,
   "id": "2c24c011",
   "metadata": {},
   "outputs": [],
   "source": [
    "result_handle=NCBIWWW.qblast(\"blastp\", \"swissprot\", registo.format(\"fasta\"))"
   ]
  },
  {
   "cell_type": "code",
   "execution_count": 20,
   "id": "b22c7547",
   "metadata": {},
   "outputs": [],
   "source": [
    "save_file=open(\"blast-ProtKLF14.xml\",\"w\")\n",
    "save_file.write(result_handle.read())\n",
    "save_file.close()\n",
    "result_handle.close()"
   ]
  },
  {
   "cell_type": "code",
   "execution_count": 21,
   "id": "b444dd6a",
   "metadata": {},
   "outputs": [],
   "source": [
    "result_handle=open(\"blast-ProtKLF14.xml\")\n",
    "record=NCBIXML.read(result_handle)"
   ]
  },
  {
   "cell_type": "code",
   "execution_count": 22,
   "id": "eb4499d0",
   "metadata": {},
   "outputs": [
    {
     "name": "stdout",
     "output_type": "stream",
     "text": [
      "number hits: 50\n"
     ]
    }
   ],
   "source": [
    "nhits=len(record.alignments)\n",
    "print(\"number hits:\", nhits)"
   ]
  },
  {
   "cell_type": "code",
   "execution_count": 23,
   "id": "733c9c5a",
   "metadata": {},
   "outputs": [
    {
     "name": "stdout",
     "output_type": "stream",
     "text": [
      "E-values and length of alignments:\n",
      "Q8TD94 - 0.0 length:323\n",
      "Q14V87 - 0.0 length:323\n",
      "Q19A41 - 1.01819e-113 length:287\n",
      "Q9BXK1 - 1.98007e-51 length:101\n",
      "P58334 - 2.08616e-50 length:101\n",
      "O35739 - 2.47626e-48 length:286\n",
      "Q01713 - 2.5572e-48 length:286\n",
      "Q9Y2Y9 - 3.17615e-48 length:97\n",
      "Q9JJZ6 - 1.48637e-47 length:97\n",
      "P79288 - 4.42294e-47 length:288\n",
      "Q13886 - 5.96314e-46 length:288\n",
      "Q8K1S5 - 1.573e-39 length:104\n",
      "O14901 - 4.16476e-39 length:104\n",
      "Q13118 - 8.72357e-38 length:107\n",
      "O08876 - 9.86226e-38 length:107\n",
      "O89091 - 1.57203e-37 length:107\n",
      "Q9JHX2 - 1.4224e-36 length:103\n",
      "Q02446 - 5.69933e-36 length:85\n",
      "Q62445 - 6.07292e-36 length:85\n",
      "Q0VA40 - 8.71504e-36 length:83\n",
      "Q6NW96 - 9.87006e-36 length:83\n",
      "Q6P0J3 - 1.2754e-35 length:83\n",
      "Q64HY3 - 1.67975e-35 length:83\n",
      "P0CG40 - 1.7142e-35 length:83\n",
      "Q64HY5 - 1.97403e-35 length:83\n",
      "O89090 - 2.02345e-35 length:85\n",
      "Q01714 - 2.17134e-35 length:85\n",
      "Q6BEB4 - 2.5692e-35 length:103\n",
      "Q8IXZ3 - 2.83135e-35 length:83\n",
      "Q8BMJ8 - 2.8908e-35 length:83\n",
      "P08047 - 4.80364e-35 length:85\n",
      "Q90WR8 - 7.01518e-35 length:85\n",
      "Q5XGT8 - 9.519e-35 length:83\n",
      "Q02447 - 1.02722e-34 length:85\n",
      "O70494 - 1.37345e-34 length:85\n",
      "Q8TDD2 - 2.23454e-33 length:83\n",
      "Q8VI67 - 2.84572e-33 length:83\n",
      "Q5E9U0 - 9.8073e-33 length:93\n",
      "Q9D2H6 - 1.20942e-32 length:93\n",
      "Q02086 - 1.21597e-32 length:93\n",
      "O35738 - 1.52595e-32 length:138\n",
      "Q9EPW2 - 3.07012e-32 length:122\n",
      "Q13351 - 3.60635e-32 length:107\n",
      "P46099 - 3.64558e-32 length:143\n",
      "O95600 - 5.37937e-32 length:86\n",
      "Q13887 - 5.60245e-32 length:95\n",
      "Q9Y4X4 - 5.64865e-32 length:138\n",
      "Q9UIH9 - 7.33268e-32 length:107\n",
      "Q9XW26 - 7.97452e-32 length:133\n",
      "Q8BLM0 - 1.52363e-31 length:88\n"
     ]
    }
   ],
   "source": [
    "res=[]\n",
    "for alignment in record.alignments:\n",
    "    evalue=alignment.hsps[0].expect\n",
    "    acession=alignment.accession\n",
    "    leng=alignment.hsps[0].align_length\n",
    "    \n",
    "    #guardar em ficheiro fasta as sequências homólogas obtidas\n",
    "    handle=Entrez.efetch(db=\"protein\", id=acession, rettype=\"fasta\", retmode=\"text\")\n",
    "    seq_record=SeqIO.read(handle,\"fasta\")\n",
    "    SeqIO.write(seq_record, acession + '.fasta', \"fasta\")\n",
    "    handle.close()\n",
    "    \n",
    "    res.append(acession + \" - \" + str(evalue) + \" length:\" + str(leng))\n",
    "print(\"E-values and length of alignments:\")\n",
    "for s in res: print(s)"
   ]
  }
 ],
 "metadata": {
  "kernelspec": {
   "display_name": "Python 3 (ipykernel)",
   "language": "python",
   "name": "python3"
  },
  "language_info": {
   "codemirror_mode": {
    "name": "ipython",
    "version": 3
   },
   "file_extension": ".py",
   "mimetype": "text/x-python",
   "name": "python",
   "nbconvert_exporter": "python",
   "pygments_lexer": "ipython3",
   "version": "3.9.13"
  }
 },
 "nbformat": 4,
 "nbformat_minor": 5
}
