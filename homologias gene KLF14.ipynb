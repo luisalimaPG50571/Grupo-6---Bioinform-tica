{
 "cells": [
  {
   "cell_type": "code",
   "execution_count": 7,
   "id": "005fb346",
   "metadata": {},
   "outputs": [],
   "source": [
    "from Bio.Blast import NCBIXML\n",
    "from Bio.Blast import NCBIWWW\n",
    "from Bio import SeqIO"
   ]
  },
  {
   "cell_type": "code",
   "execution_count": 8,
   "id": "89086eec",
   "metadata": {
    "scrolled": true
   },
   "outputs": [],
   "source": [
    "seq_KLF14 = SeqIO.read(open(\"KLF14.fasta\"), format=\"fasta\")\n",
    "\n",
    "\n"
   ]
  },
  {
   "cell_type": "code",
   "execution_count": 9,
   "id": "cc7e83ec",
   "metadata": {},
   "outputs": [],
   "source": [
    "# realizar o blast com a sequencia do gene anterior\n",
    "# registar o resultado num ficheiro formato .xml\n",
    "\n",
    "result_handle = NCBIWWW.qblast(\"blastn\", \"nt\", seq_KLF14.format(\"fasta\"))\n",
    "file_save = open (\"my_blast_KLF14.xml\", \"w\")\n",
    "file_save.write(result_handle.read())\n",
    "file_save.close()\n",
    "result_handle.close()"
   ]
  },
  {
   "cell_type": "code",
   "execution_count": 10,
   "id": "cd5ecafd",
   "metadata": {},
   "outputs": [],
   "source": [
    "#analisa-se os parametros gerais da pesquisa\n",
    "\n",
    "result_handle = open(\"my_blast_KLF14.xml\")\n",
    "record = NCBIXML.read(result_handle)\n",
    "\n",
    "    "
   ]
  },
  {
   "cell_type": "code",
   "execution_count": 11,
   "id": "06a54bc4",
   "metadata": {},
   "outputs": [
    {
     "name": "stdout",
     "output_type": "stream",
     "text": [
      "Parâmetros\n",
      "Database: nt\n",
      "Matrix: \n",
      "Gap penalties: (5, 2)\n"
     ]
    }
   ],
   "source": [
    "print(\"Parâmetros\")\n",
    "print(\"Database:\" , record.database)\n",
    "print(\"Matrix:\", record.matrix)\n",
    "print(\"Gap penalties:\", record.gap_penalties)"
   ]
  },
  {
   "cell_type": "code",
   "execution_count": 13,
   "id": "536af644",
   "metadata": {},
   "outputs": [
    {
     "name": "stdout",
     "output_type": "stream",
     "text": [
      "Sequências homólogas:\n",
      "\n",
      "Acesso: NM_138693\n",
      "Hit id: gi|1821955883|ref|NM_138693.4| \n",
      "\n",
      "E-value: 0.0\n",
      "Comprimento: 3511\n",
      "Identidade: 100.0 %\n",
      "Query cover: 100.0 %\n",
      "Positivies: 100.0 % \n",
      "\n",
      "Definição: Homo sapiens KLF transcription factor 14 (KLF14), mRNA \n",
      "\n",
      "---Alinhamento---- Query start: 1 Sbjct start: 1\n",
      "Acesso: NG_016152\n",
      "Hit id: gi|1958130113|ref|NG_016152.3| \n",
      "\n",
      "E-value: 0.0\n",
      "Comprimento: 3511\n",
      "Identidade: 100.0 %\n",
      "Query cover: 100.0 %\n",
      "Positivies: 100.0 % \n",
      "\n",
      "Definição: Homo sapiens KLF transcription factor 14 (KLF14), RefSeqGene (LRG_1039) on chromosome 7 \n",
      "\n",
      "---Alinhamento---- Query start: 1 Sbjct start: 5001\n",
      "Acesso: AC234644\n",
      "Hit id: gi|223468741|gb|AC234644.1| \n",
      "\n",
      "E-value: 0.0\n",
      "Comprimento: 3511\n",
      "Identidade: 100.0 %\n",
      "Query cover: 100.0 %\n",
      "Positivies: 100.0 % \n",
      "\n",
      "Definição: Homo sapiens BAC clone RP11-303K3 from chromosome 7, complete sequence \n",
      "\n",
      "---Alinhamento---- Query start: 1 Sbjct start: 12752\n",
      "Acesso: AC187610\n",
      "Hit id: gi|145699327|gb|AC187610.3| \n",
      "\n",
      "E-value: 0.0\n",
      "Comprimento: 3507\n",
      "Identidade: 99.23011120615911 %\n",
      "Query cover: 99.88607234406152 %\n",
      "Positivies: 99.23011120615911 % \n",
      "\n",
      "Definição: Pan troglodytes BAC clone CH251-661M24 from chromosome 7, complete sequence \n",
      "\n",
      "---Alinhamento---- Query start: 5 Sbjct start: 180721\n",
      "Acesso: AC009274\n",
      "Hit id: gi|21217400|gb|AC009274.11| \n",
      "\n",
      "E-value: 0.0\n",
      "Comprimento: 3365\n",
      "Identidade: 99.73254086181278 %\n",
      "Query cover: 95.84164055824552 %\n",
      "Positivies: 99.73254086181278 % \n",
      "\n",
      "Definição: Homo sapiens chromosome 7 clone RP11-254L11, complete sequence \n",
      "\n",
      "---Alinhamento---- Query start: 147 Sbjct start: 114349\n",
      "Acesso: XM_050782505\n",
      "Hit id: gi|2309459600|ref|XM_050782505.1| \n",
      "\n",
      "E-value: 0.0\n",
      "Comprimento: 3511\n",
      "Identidade: 95.8131586442609 %\n",
      "Query cover: 100.0 %\n",
      "Positivies: 95.8131586442609 % \n",
      "\n",
      "Definição: PREDICTED: Macaca thibetana thibetana KLF transcription factor 14 (LOC126949725), mRNA \n",
      "\n",
      "---Alinhamento---- Query start: 1 Sbjct start: 1\n",
      "Acesso: XM_015134908\n",
      "Hit id: gi|1622919941|ref|XM_015134908.2| \n",
      "\n",
      "E-value: 0.0\n",
      "Comprimento: 3403\n",
      "Identidade: 96.23861298853953 %\n",
      "Query cover: 96.92395328966107 %\n",
      "Positivies: 96.23861298853953 % \n",
      "\n",
      "Definição: PREDICTED: Macaca mulatta Kruppel like factor 14 (KLF14), mRNA \n",
      "\n",
      "---Alinhamento---- Query start: 109 Sbjct start: 3\n",
      "Acesso: XM_012088095\n",
      "Hit id: gi|795403252|ref|XM_012088095.1| \n",
      "\n",
      "E-value: 0.0\n",
      "Comprimento: 3338\n",
      "Identidade: 96.28520071899341 %\n",
      "Query cover: 95.07262888066079 %\n",
      "Positivies: 96.28520071899341 % \n",
      "\n",
      "Definição: PREDICTED: Cercocebus atys Kruppel-like factor 14 (KLF14), mRNA \n",
      "\n",
      "---Alinhamento---- Query start: 175 Sbjct start: 1\n"
     ]
    }
   ],
   "source": [
    "#verifica o numero de alinhamentos e analisa com pormenor o primeiro destes\n",
    "# accession numbers - identificador único dado a uma sequência de polímero biológico \n",
    "#quando é submetido a um banco de dados de sequências\n",
    "#e-value- probabilidade de alinhamento aleatório:\n",
    "#(cálculo estatístico - baseado na qualidade do alinhamento (a pontuação) e no tamanho do banco de dados)\n",
    "\n",
    "e_value_threshold = 0.0000001\n",
    "c = len(seq_KLF14.seq)\n",
    "\n",
    "print(\"Sequências homólogas:\")\n",
    "print(\"\")\n",
    "for alignment in record.alignments:\n",
    "    for hsp in alignment.hsps:\n",
    "        n=hsp.align_length\n",
    "        i=(hsp.identities/n)\n",
    "        q=(n/c)\n",
    "        p=(hsp.positives/n)\n",
    "        if hsp.expect < e_value_threshold and q>=0.9 and i>=0.9:\n",
    "            print(\"Acesso:\" , alignment.accession)\n",
    "            print(\"Hit id:\" , alignment.hit_id, \"\\n\")\n",
    "            print(\"E-value:\" , hsp.expect)\n",
    "            print(\"Comprimento:\", hsp.align_length)\n",
    "            print(\"Identidade:\" , (i*100), \"%\")\n",
    "            print(\"Query cover:\" , (q*100), \"%\")\n",
    "            print(\"Positivies:\", (p*100), \"%\", \"\\n\")\n",
    "            print(\"Definição:\" ,alignment.hit_def, \"\\n\")\n",
    "            print(\"---Alinhamento----\", \"Query start:\", hsp.query_start, \"Sbjct start:\",hsp.sbjct_start)\n",
    "        "
   ]
  },
  {
   "cell_type": "code",
   "execution_count": null,
   "id": "f898e267",
   "metadata": {},
   "outputs": [],
   "source": []
  }
 ],
 "metadata": {
  "kernelspec": {
   "display_name": "Python 3 (ipykernel)",
   "language": "python",
   "name": "python3"
  },
  "language_info": {
   "codemirror_mode": {
    "name": "ipython",
    "version": 3
   },
   "file_extension": ".py",
   "mimetype": "text/x-python",
   "name": "python",
   "nbconvert_exporter": "python",
   "pygments_lexer": "ipython3",
   "version": "3.9.12"
  }
 },
 "nbformat": 4,
 "nbformat_minor": 5
}
