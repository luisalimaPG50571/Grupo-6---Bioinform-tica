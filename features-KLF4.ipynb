{
 "cells": [
  {
   "cell_type": "markdown",
   "id": "a621576f",
   "metadata": {},
   "source": [
    "# Análise da sequência e das features presentes no NCBI"
   ]
  },
  {
   "cell_type": "markdown",
   "id": "5f2a7a1e",
   "metadata": {},
   "source": [
    "Carregamento do package e dos módulos necessários"
   ]
  },
  {
   "cell_type": "code",
   "execution_count": 6,
   "id": "c09bd018",
   "metadata": {},
   "outputs": [],
   "source": [
    "from Bio import SeqIO #Importar \"SeqIO\"\n",
    "from Bio import Seq"
   ]
  },
  {
   "cell_type": "markdown",
   "id": "a88d923b",
   "metadata": {},
   "source": [
    "Após procurar no site NCBI o registo Genbank correspondente ao gene IRS1, e gravar o ficheiro no formato “genbank”, foi usado o BioPython para carregar o ficheiro para análise."
   ]
  },
  {
   "cell_type": "code",
   "execution_count": 7,
   "id": "476a070a",
   "metadata": {},
   "outputs": [
    {
     "data": {
      "text/plain": [
       "SeqRecord(seq=Seq('GGGCGGCGGCGGCAGCGGCGGCTGCGGCGGCGGCGGCGGCAGCAGGCGGCAGGC...AAA'), id='NC_000007.14', name='NC_000007', description='Homo sapiens chromosome 7, GRCh38.p14 Primary Assembly', dbxrefs=['BioProject:PRJNA168', 'Assembly:GCF_000001405.40'])"
      ]
     },
     "execution_count": 7,
     "metadata": {},
     "output_type": "execute_result"
    }
   ],
   "source": [
    "record=SeqIO.read(\"sequence-KLF14.gb\",\"genbank\")\n",
    "record"
   ]
  },
  {
   "cell_type": "markdown",
   "id": "f4a88572",
   "metadata": {},
   "source": [
    "É então possível obter informações a partir do ficheiro, tais como: o ID, o nome da sequência, o seu comprimento, a descrição da sequência e ainda a própria sequência nucleotídica"
   ]
  },
  {
   "cell_type": "code",
   "execution_count": 8,
   "id": "a44510d3",
   "metadata": {},
   "outputs": [
    {
     "name": "stdout",
     "output_type": "stream",
     "text": [
      "ID: NC_000007.14\n",
      "\n",
      "Nome: NC_000007\n",
      "\n",
      "Tamanho da sequência: 3511\n",
      "\n",
      "Descrição: Homo sapiens chromosome 7, GRCh38.p14 Primary Assembly\n",
      "\n",
      "Sequência nucleotídica: GGGCGGCGGCGGCAGCGGCGGCTGCGGCGGCGGCGGCGGCAGCAGGCGGCAGGCGGCGAGCACCCGGCCTCCTGCTTCTCGCTCCGAGGCTGCGGGACGGACGCTCCCGGGAACTCCGTCGCCCGCGGCCGGCCGCGTTCGGACGGCGCTCGCCGGCGGCCGGGCGGTCCCAGCATGTCGGCCGCCGTGGCGTGCCTGGACTACTTCGCCGCCGAGTGCCTGGTGTCCATGTCCGCGGGCGCCGTGGTTCACCGCCGCCCGCCGGACCCCGAGGGCGCGGGTGGAGCCGCTGGCTCGGAGGTGGGTGCGGCGCCGCCGGAGTCCGCTCTGCCGGGTCCGGGGCCACCGGGGCCCGCGTCGGTCCCCCAGCTCCCGCAGGTCCCCGCCCCCAGCCCCGGCGCGGGCGGCGCCGCGCCCCACCTGCTGGCTGCAAGCGTCTGGGCGGACTTGCGCGGCAGCTCTGGCGAGGGCTCCTGGGAGAACTCGGGGGAAGCTCCACGCGCCTCGTCCGGCTTCTCCGACCCGATCCCGTGCTCCGTCCAGACCCCGTGCTCCGAGCTGGCTCCCGCCTCCGGCGCCGCGGCGGTCTGCGCTCCCGAGAGCTCCTCCGATGCGCCCGCCGTCCCAAGCGCGCCTGCTGCCCCGGGCGCACCAGCAGCCTCTGGTGGGTTCTCTGGAGGGGCCCTAGGGGCAGGCCCCGCCCCCGCCGCGGATCAGGCGCCCCGGAGGAGGTCTGTCACACCTGCTGCCAAGCGCCACCAATGCCCCTTCCCGGGCTGCACCAAAGCCTATTACAAGTCGTCGCACCTCAAGTCCCACCAGCGCACCCACACGGGTGAGCGCCCTTTCTCCTGCGACTGGCTCGACTGCGACAAGAAGTTTACGCGTTCCGACGAGCTGGCCCGCCACTACAGGACGCACACGGGCGAGAAGCGCTTCTCCTGCCCCCTCTGCCCCAAGCAGTTCTCCCGGAGCGACCACCTGACCAAGCATGCTCGCCGCCACCCAACCTATCATCCAGATATGATCGAGTACCGGGGACGTCGTCGAACTCCCCGCATCGACCCGCCACTCACCAGCGAGGTGGAAAGCTCCGCCTCCGGCTCCGGTCCCGGCCCGGCGCCCAGCTTCACCACCTGCCTGTAGGACAGTCATTGCTGTCAGTCTTACCCTCAAGGATGATCCCCCAGGCCGTTGTCCCTGCTTTCTCTCTGCCCATCCTTCTTTCCCAGAGTCATTACACCAAGGCACAGACTGGTTCCTCTGCTCTGAGGGTGGGTCCAGGCAGACATGTGGACTCTGGGGAGGTACTGGGGGCCGGAAAATAGCGGGAATTCTTGCAACGTGTATATCATCCTAAAAGTGGGGGTTGCCTCAAGACAGCCCCCAGGAACTGATAAGAAGGGATGAACTCCCGTACTCTCCAGAGTACTGAAGATTCTCCCCTCCCTGGAACCAGGGATGTGAAACTGGAATTCTCAGATGCCTGAGGAGCTCCCAGTCTCAAAGGACTCTGGTGTCTCACCCATCCACCAGGGCGGACCTTGGAGAGGGTGTCAGGGGTGGCAGTCTTGGAAATGTCCAGGACTGGGATGGTGAGAGGCCTTTGGAAACAGAAATGATTTCTATTTCTGTAAACAGCAATGTTTACTAATTTATTTTTAGCATCTTTTAAATAGGGATCCCAGGTTGATGGGAGGCTTATGCCCTCCAATCCCCCAATTGCCCCAGCTACCTCTGCTAGGAGAGGCCACATAAGCTCCATGTAGATGTGTGGCTGGGAGATACTTCTTGATGTCTGGGGTGTGAGTCTGTTTGCAGGTCCTGTTGCATGATTTGGAACCCTGCGCTTGCGTCGTAGCCCTTCTCCCCATTTGGATTCCTACTTGAGGATGGTAACTTCCTGGCTCACTCTCACGCTGAGATTGGTTAAACAATTTGAAAACTACCGTAAAGGCACCAGCAAGAAAAGGGTGGTCCAGACTAGTTCCCCCTTCACTCAGAGAGAAAACTCAAGCGACCTTAAGTTTGGGCGGGGCCCGAAACAAGACCGCTCATAACCATTGATAACTTTCAGGGAAATAGAGGCGTGTGGACACAGCTGCCCCACCTTATGTAATCTCAGGAGTGGTAGATTCTGTTAATTTCCTAATGGCTAACTAGGGGGTTATTTCCCTCAGAGTCTGCAGATTTTCGTTTCTGAAACAGGTGAGTTGGTGGGTGGGAGAGGGAAGGGTAACAGACTGGTTTCTTCCAAGGAGCTGGCTGCCTTGGATTTGAGGAAGGAGTAGCAAGGTGATAGCTATTATGAAATAGGAGGAACTTTCTCCTCTGACCATATAGTCCCTCCAAGTTATATCCTCAGGGCCCCTTTCCCGATAAGAAGGAATCAGACATCAACAGTATTTGTTTTTTCTATATGTGTCTCTGCTGCTGTGGATGAAATCACTGACCACTCTGCTTGTGTATGTATGAATGTGTATATATGTGACCCTTTCTTTAGAGATGAGGCTGAAAGGCATTTCCTGCCCTGGGAGATCCCCTCTGGCCCCCTCCTGAATATTTTGCAATAGTCCATCACTGACACTTGGGGAAGATGCTGTAATCTCATAGGACCCTAACGGGCATCTGGTTAAACAAATTGCTTTCCCCTATTTTGCAGATGAGGATACTGAAGACTAGATAAGCTCAAAGTCATATGCTAGGTTGCTGGGAAGAGCCATGACTAGAACTTAGGTGTCTGGCCTGCTAAGTGACTCTTTCCCTCACACTTGATTACCCCCATCTCTTCCTCCTCTCTGGGATCTTAGTCCCTCCCTCGCTCCCTATTCTGTATTGCTTCTGTGTACCTTCACATGTTGATTGAACCCTTTGCCTATTGTGTTTGACCCAAAAGCCCTTTTCTTAACTGGTTACGTTCCCTCCCTTCACACCATGTGGACATAAAGTGAGAATGACTTTTTGGCATCCTAGGAGAGACTTTCTCTTTGGACCTGCTAGGTTAATTTTCAGTGTGAATTCCCTTCTTTTTCTGGTCCTGGGCATTCCAGCATCCTCAAGAGAGTGAATGATACAAACATGACATTGGGACTGTACTAAGTGCTCCTACACTAAGTGAGGGAGGGGTCCTTAGAAAGGACCAAAAGAGTATGGCCTATGACCCTGAAGAGGTTCAGTATTTCCTAATGAAGGCTAAGCAGGGAAGGTGGGGCTGTTGAGTTACATGTGGGAGGAGAAGGCCCCCCACTGTGAAAGTGATTTTTGGTAGTGGAAGGAGTCTTCTCTTTGCTCTGTTTGTCTCTTCAGCTAGGGCTGGATAGCTAGGGCATTGGGGGTCCTATTGAAGACTACTGTTTCCTCTTTGTCCTTTTCAGTTGAAGATCTGCCATTGGGTAAGTGGACCAAGGAAGCCAACAGGAATTTCCACTAACCATTCTGAAATTGGTTTCAAGAAAGCTTGGCTTTTCCAATCACCTGTTGATAAATAACTTTTGATTCTCAAGCTCCCAAA\n"
     ]
    }
   ],
   "source": [
    "print('ID:',record.id)\n",
    "print(\"\")\n",
    "print('Nome:',record.name)\n",
    "print(\"\")\n",
    "print('Tamanho da sequência:',len(record.seq))\n",
    "print(\"\")\n",
    "print('Descrição:',record.description)\n",
    "print(\"\")\n",
    "print('Sequência nucleotídica:',record.seq)"
   ]
  },
  {
   "cell_type": "markdown",
   "id": "35dfd9c4",
   "metadata": {},
   "source": [
    "Sabe-se que as anotações são dadas sob a forma de um dicionário e o código permite obter as chaves do dicionário e os respetivos valores associados.\n",
    "A partir das anotações, obtém-se informação como o organismo a que pertence a sequência e a sua classificação taxonómica. Extrai-se ainda o Id da sequência, o tipo de molécula, a sua descrição, entre outros.\n",
    "\n"
   ]
  },
  {
   "cell_type": "code",
   "execution_count": 9,
   "id": "3684f775",
   "metadata": {},
   "outputs": [
    {
     "name": "stdout",
     "output_type": "stream",
     "text": [
      "{'molecule_type': 'DNA', 'topology': 'linear', 'data_file_division': 'CON', 'date': '06-APR-2022', 'accessions': ['NC_000007', 'REGION:', 'complement(130730697..130734207)'], 'sequence_version': 14, 'keywords': ['RefSeq'], 'source': 'Homo sapiens (human)', 'organism': 'Homo sapiens', 'taxonomy': ['Eukaryota', 'Metazoa', 'Chordata', 'Craniata', 'Vertebrata', 'Euteleostomi', 'Mammalia', 'Eutheria', 'Euarchontoglires', 'Primates', 'Haplorrhini', 'Catarrhini', 'Hominidae', 'Homo'], 'references': [Reference(title='Finishing the euchromatic sequence of the human genome', ...), Reference(title='The DNA sequence of human chromosome 7', ...), Reference(title='Initial sequencing and analysis of the human genome', ...)], 'comment': 'REFSEQ INFORMATION: The reference sequence is identical to\\nCM000669.2.\\nOn Feb 3, 2014 this sequence version replaced NC_000007.13.\\nAssembly Name: GRCh38.p14 Primary Assembly\\nThe DNA sequence is composed of genomic sequence, primarily\\nfinished clones that were sequenced as part of the Human Genome\\nProject. PCR products and WGS shotgun sequence have been added\\nwhere necessary to fill gaps or correct errors. All such additions\\nare manually curated by GRC staff. For more information see:\\nhttps://genomereference.org.', 'structured_comment': OrderedDict([('Genome-Annotation-Data', OrderedDict([('Annotation Provider', 'NCBI'), ('Annotation Status', 'Full annotation'), ('Annotation Name', 'Homo sapiens Annotation Release 110'), ('Annotation Version', '110'), ('Annotation Pipeline', 'NCBI eukaryotic genome annotation pipeline'), ('Annotation Software Version', '9.0'), ('Annotation Method', 'Best-placed RefSeq; Gnomon'), ('Features Annotated', 'Gene; mRNA; CDS; ncRNA')]))])}\n",
      "\n",
      "Fonte:  Homo sapiens (human)\n",
      "\n",
      "Espécie:  Homo sapiens\n",
      "\n",
      "Taxonomia:  ['Eukaryota', 'Metazoa', 'Chordata', 'Craniata', 'Vertebrata', 'Euteleostomi', 'Mammalia', 'Eutheria', 'Euarchontoglires', 'Primates', 'Haplorrhini', 'Catarrhini', 'Hominidae', 'Homo']\n",
      "\n",
      "Tipo de molécula:  DNA\n",
      "\n",
      "Topologia:  linear\n",
      "\n",
      "Data file division:  CON\n",
      "\n",
      "Data:  06-APR-2022\n",
      "\n",
      "ID NCBI da sequência nucleotídica:  ['NC_000007', 'REGION:', 'complement(130730697..130734207)']\n",
      "Versão da sequência: 14\n",
      "\n",
      "Palavras-chave:  ['RefSeq']\n",
      "\n"
     ]
    }
   ],
   "source": [
    "#annotations: dicionário que contém informações adicionais sobre a sequência\n",
    "annotations=record.annotations\n",
    "print(annotations)\n",
    "print(\"\")\n",
    "\n",
    "\n",
    "fonte= record.annotations[\"source\"]\n",
    "print (\"Fonte: \",fonte) \n",
    "print(\"\")\n",
    "\n",
    "organismo=record.annotations[\"organism\"]\n",
    "print(\"Espécie: \",organismo)\n",
    "print(\"\")\n",
    "\n",
    "taxonomia=record.annotations[\"taxonomy\"]\n",
    "print(\"Taxonomia: \",taxonomia)\n",
    "print(\"\")\n",
    "\n",
    "tipo= record.annotations[\"molecule_type\"]\n",
    "print (\"Tipo de molécula: \",tipo)\n",
    "print(\"\")\n",
    "\n",
    "topologia=record.annotations[\"topology\"]\n",
    "print (\"Topologia: \",topologia )\n",
    "print(\"\")\n",
    "\n",
    "divisao= record.annotations[\"data_file_division\"]\n",
    "print (\"Data file division: \",divisao)\n",
    "print(\"\")\n",
    "\n",
    "data=record.annotations[\"date\"]\n",
    "print (\"Data: \",data)\n",
    "print(\"\")\n",
    "\n",
    "identificador=record.annotations[\"accessions\"]\n",
    "print(\"ID NCBI da sequência nucleotídica: \",identificador)\n",
    "\n",
    "versao=record.annotations[\"sequence_version\"]\n",
    "print (\"Versão da sequência:\",versao)\n",
    "print(\"\")\n",
    "\n",
    "palavras=record.annotations[\"keywords\"]\n",
    "print(\"Palavras-chave: \",palavras)\n",
    "print(\"\")\n"
   ]
  },
  {
   "cell_type": "markdown",
   "id": "2734cd07",
   "metadata": {},
   "source": [
    "Para além do anteriormente visto, também se pode extrair do ficheiro a quantidade de features, a lista de features e ainda, o tipo de features e a localização de cada uma delas.\n"
   ]
  },
  {
   "cell_type": "code",
   "execution_count": 10,
   "id": "7152a670",
   "metadata": {},
   "outputs": [
    {
     "name": "stdout",
     "output_type": "stream",
     "text": [
      "As features são:  [SeqFeature(FeatureLocation(ExactPosition(0), ExactPosition(3511), strand=1), type='source'), SeqFeature(FeatureLocation(ExactPosition(0), ExactPosition(3511), strand=1), type='gene'), SeqFeature(FeatureLocation(ExactPosition(0), ExactPosition(3511), strand=1), type='mRNA'), SeqFeature(FeatureLocation(ExactPosition(174), ExactPosition(1146), strand=1), type='CDS'), SeqFeature(FeatureLocation(ExactPosition(252), ExactPosition(414), strand=1), type='misc_feature'), SeqFeature(FeatureLocation(ExactPosition(453), ExactPosition(522), strand=1), type='misc_feature'), SeqFeature(FeatureLocation(ExactPosition(597), ExactPosition(657), strand=1), type='misc_feature'), SeqFeature(FeatureLocation(ExactPosition(669), ExactPosition(759), strand=1), type='misc_feature'), SeqFeature(FeatureLocation(ExactPosition(1008), ExactPosition(1143), strand=1), type='misc_feature')]\n"
     ]
    }
   ],
   "source": [
    "feat=record.features\n",
    "print(\"As features são: \",feat)\n"
   ]
  },
  {
   "cell_type": "code",
   "execution_count": 11,
   "id": "3ac3f2cd",
   "metadata": {},
   "outputs": [
    {
     "name": "stdout",
     "output_type": "stream",
     "text": [
      "O número de features é:  9\n",
      "\n",
      "O tipo e localização das features são: \n",
      "source [0:3511](+)\n",
      "gene [0:3511](+)\n",
      "mRNA [0:3511](+)\n",
      "CDS [174:1146](+)\n",
      "misc_feature [252:414](+)\n",
      "misc_feature [453:522](+)\n",
      "misc_feature [597:657](+)\n",
      "misc_feature [669:759](+)\n",
      "misc_feature [1008:1143](+)\n"
     ]
    }
   ],
   "source": [
    "print(\"O número de features é: \",len(record.features))\n",
    "print(\"\")\n",
    "print(\"O tipo e localização das features são: \")\n",
    "for f in record.features: \n",
    "    print(f.type, f.location)\n"
   ]
  },
  {
   "cell_type": "markdown",
   "id": "3f66eca6",
   "metadata": {},
   "source": [
    "A partir da lista de features e juntamente com o código descrito abaixo, identificou-se as sequências codificantes associadas a este registo e a sua localização.\n",
    "\n",
    "Através dos qualifiers associados, determinou-se ainda qual a proteína codificada, e o seu significado biológico, e imprimiu-se a sequência da mesma."
   ]
  },
  {
   "cell_type": "code",
   "execution_count": 12,
   "id": "591c5f39",
   "metadata": {},
   "outputs": [
    {
     "name": "stdout",
     "output_type": "stream",
     "text": [
      "Índices das sequências codificantes:  [3]\n"
     ]
    }
   ],
   "source": [
    "featcds=[]\n",
    "\n",
    "for i in range(len(record.features)):\n",
    "    if record.features[i].type==\"CDS\":\n",
    "        featcds.append(i)\n",
    "    \n",
    "print(\"Índices das sequências codificantes: \",featcds)\n"
   ]
  },
  {
   "cell_type": "code",
   "execution_count": 13,
   "id": "de6887f6",
   "metadata": {},
   "outputs": [
    {
     "name": "stdout",
     "output_type": "stream",
     "text": [
      "Identificação da proteína:  ['Krueppel-like factor 14']\n",
      "Sequência da proteína:  ['MSAAVACLDYFAAECLVSMSAGAVVHRRPPDPEGAGGAAGSEVGAAPPESALPGPGPPGPASVPQLPQVPAPSPGAGGAAPHLLAASVWADLRGSSGEGSWENSGEAPRASSGFSDPIPCSVQTPCSELAPASGAAAVCAPESSSDAPAVPSAPAAPGAPAASGGFSGGALGAGPAPAADQAPRRRSVTPAAKRHQCPFPGCTKAYYKSSHLKSHQRTHTGERPFSCDWLDCDKKFTRSDELARHYRTHTGEKRFSCPLCPKQFSRSDHLTKHARRHPTYHPDMIEYRGRRRTPRIDPPLTSEVESSASGSGPGPAPSFTTCL']\n",
      "\n"
     ]
    }
   ],
   "source": [
    "for k in featcds:\n",
    "    print(\"Identificação da proteína: \",record.features[k].qualifiers[\"product\"])\n",
    "    print(\"Sequência da proteína: \",record.features[k].qualifiers[\"translation\"])\n",
    "    print(\"\")"
   ]
  },
  {
   "cell_type": "code",
   "execution_count": 14,
   "id": "a4e3aab8",
   "metadata": {},
   "outputs": [
    {
     "name": "stdout",
     "output_type": "stream",
     "text": [
      "DNA:  ATGTCGGCCGCCGTGGCGTGCCTGGACTACTTCGCCGCCGAGTGCCTGGTGTCCATGTCCGCGGGCGCCGTGGTTCACCGCCGCCCGCCGGACCCCGAGGGCGCGGGTGGAGCCGCTGGCTCGGAGGTGGGTGCGGCGCCGCCGGAGTCCGCTCTGCCGGGTCCGGGGCCACCGGGGCCCGCGTCGGTCCCCCAGCTCCCGCAGGTCCCCGCCCCCAGCCCCGGCGCGGGCGGCGCCGCGCCCCACCTGCTGGCTGCAAGCGTCTGGGCGGACTTGCGCGGCAGCTCTGGCGAGGGCTCCTGGGAGAACTCGGGGGAAGCTCCACGCGCCTCGTCCGGCTTCTCCGACCCGATCCCGTGCTCCGTCCAGACCCCGTGCTCCGAGCTGGCTCCCGCCTCCGGCGCCGCGGCGGTCTGCGCTCCCGAGAGCTCCTCCGATGCGCCCGCCGTCCCAAGCGCGCCTGCTGCCCCGGGCGCACCAGCAGCCTCTGGTGGGTTCTCTGGAGGGGCCCTAGGGGCAGGCCCCGCCCCCGCCGCGGATCAGGCGCCCCGGAGGAGGTCTGTCACACCTGCTGCCAAGCGCCACCAATGCCCCTTCCCGGGCTGCACCAAAGCCTATTACAAGTCGTCGCACCTCAAGTCCCACCAGCGCACCCACACGGGTGAGCGCCCTTTCTCCTGCGACTGGCTCGACTGCGACAAGAAGTTTACGCGTTCCGACGAGCTGGCCCGCCACTACAGGACGCACACGGGCGAGAAGCGCTTCTCCTGCCCCCTCTGCCCCAAGCAGTTCTCCCGGAGCGACCACCTGACCAAGCATGCTCGCCGCCACCCAACCTATCATCCAGATATGATCGAGTACCGGGGACGTCGTCGAACTCCCCGCATCGACCCGCCACTCACCAGCGAGGTGGAAAGCTCCGCCTCCGGCTCCGGTCCCGGCCCGGCGCCCAGCTTCACCACCTGCCTGTAG\n",
      "\n"
     ]
    }
   ],
   "source": [
    "for k in featcds:\n",
    "    coding_dna = record.features[k].extract(record.seq)\n",
    "    print(\"DNA: \", coding_dna)\n",
    "    print(\"\")"
   ]
  },
  {
   "cell_type": "markdown",
   "id": "4a878af6",
   "metadata": {},
   "source": [
    "Foi também possível verificar qual o número de genes anotados no registo (feature tipo “gene”) e os seus qualifiers, ou seja, quais estão anotados em cada uma das cadeias "
   ]
  },
  {
   "cell_type": "code",
   "execution_count": 15,
   "id": "2a8323ca",
   "metadata": {},
   "outputs": [
    {
     "name": "stdout",
     "output_type": "stream",
     "text": [
      "Numero de features tipo gene:  1\n"
     ]
    }
   ],
   "source": [
    "featgene=[]\n",
    "for i in range(len(record.features)):\n",
    "    if record.features[i].type==\"gene\":\n",
    "        featgene.append(i)\n",
    "print(\"Numero de features tipo gene: \",len(featgene))\n"
   ]
  },
  {
   "cell_type": "code",
   "execution_count": 16,
   "id": "978e32b9",
   "metadata": {},
   "outputs": [
    {
     "name": "stdout",
     "output_type": "stream",
     "text": [
      "['KLF14']\n"
     ]
    }
   ],
   "source": [
    "for i in featgene:\n",
    "    print(record.features[i].qualifiers[\"gene\"])"
   ]
  }
 ],
 "metadata": {
  "kernelspec": {
   "display_name": "Python 3 (ipykernel)",
   "language": "python",
   "name": "python3"
  },
  "language_info": {
   "codemirror_mode": {
    "name": "ipython",
    "version": 3
   },
   "file_extension": ".py",
   "mimetype": "text/x-python",
   "name": "python",
   "nbconvert_exporter": "python",
   "pygments_lexer": "ipython3",
   "version": "3.9.13"
  }
 },
 "nbformat": 4,
 "nbformat_minor": 5
}
