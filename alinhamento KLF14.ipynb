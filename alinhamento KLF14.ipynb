{
 "cells": [
  {
   "cell_type": "code",
   "execution_count": 1,
   "id": "587de24b",
   "metadata": {},
   "outputs": [],
   "source": [
    "from Bio.Blast import NCBIXML\n",
    "from Bio.Blast import NCBIWWW\n",
    "from Bio import SeqIO\n",
    "from Bio import Entrez"
   ]
  },
  {
   "cell_type": "code",
   "execution_count": 2,
   "id": "5909e5d2",
   "metadata": {},
   "outputs": [],
   "source": [
    "seqrecord=SeqIO.read(open(\"KLF14.fasta\"), format=\"fasta\")"
   ]
  },
  {
   "cell_type": "code",
   "execution_count": 3,
   "id": "e26772ac",
   "metadata": {},
   "outputs": [],
   "source": [
    "result_handle=NCBIWWW.qblast(\"blastn\",\"nt\", seqrecord.format(\"fasta\"))"
   ]
  },
  {
   "cell_type": "code",
   "execution_count": 4,
   "id": "84d5993e",
   "metadata": {},
   "outputs": [],
   "source": [
    "save_file=open(\"blast-KLF14.xml\",\"w\")\n",
    "save_file.write(result_handle.read())\n",
    "save_file.close()\n",
    "result_handle.close()"
   ]
  },
  {
   "cell_type": "code",
   "execution_count": 5,
   "id": "7c663965",
   "metadata": {},
   "outputs": [],
   "source": [
    "result_handle=open(\"blast-KLF14.xml\")\n",
    "record=NCBIXML.read(result_handle)"
   ]
  },
  {
   "cell_type": "code",
   "execution_count": 6,
   "id": "28d50d3c",
   "metadata": {},
   "outputs": [
    {
     "name": "stdout",
     "output_type": "stream",
     "text": [
      "Parâmetros Globais:\n",
      "Base de dados: nt\n",
      "Matriz de substituição: \n",
      "Parâmetros de espaçamento: (5, 2)\n"
     ]
    }
   ],
   "source": [
    "print(\"Parâmetros Globais:\")\n",
    "print(\"Base de dados:\",record.database)\n",
    "print(\"Matriz de substituição:\",record.matrix)\n",
    "print(\"Parâmetros de espaçamento:\",record.gap_penalties)"
   ]
  },
  {
   "cell_type": "code",
   "execution_count": 7,
   "id": "a6d9b8dc",
   "metadata": {},
   "outputs": [
    {
     "name": "stdout",
     "output_type": "stream",
     "text": [
      "número de alinhamentos: 50\n"
     ]
    }
   ],
   "source": [
    "nhits=len(record.alignments)\n",
    "print(\"número de alinhamentos:\", nhits)"
   ]
  },
  {
   "cell_type": "code",
   "execution_count": 8,
   "id": "8d801689",
   "metadata": {},
   "outputs": [],
   "source": [
    "Entrez.email=\"joanaipborges@gmail.com\""
   ]
  },
  {
   "cell_type": "code",
   "execution_count": 9,
   "id": "c76f5739",
   "metadata": {},
   "outputs": [
    {
     "name": "stdout",
     "output_type": "stream",
     "text": [
      "E-values e comprimento dos alinhamentos obtidos:\n",
      "\n",
      "NM_138693-e-value:0.0-length:3511\n",
      "sequência:gi|1821955883|ref|NM_138693.4| Homo sapiens KLF transcription factor 14 (KLF14), mRNA\n",
      "NG_016152-e-value:0.0-length:3511\n",
      "sequência:gi|1958130113|ref|NG_016152.3| Homo sapiens KLF transcription factor 14 (KLF14), RefSeqGene (LRG_1039) on chromosome 7\n",
      "AC234644-e-value:0.0-length:3511\n",
      "sequência:gi|223468741|gb|AC234644.1| Homo sapiens BAC clone RP11-303K3 from chromosome 7, complete sequence\n",
      "AC187610-e-value:0.0-length:3507\n",
      "sequência:gi|145699327|gb|AC187610.3| Pan troglodytes BAC clone CH251-661M24 from chromosome 7, complete sequence\n",
      "AC009274-e-value:0.0-length:3365\n",
      "sequência:gi|21217400|gb|AC009274.11| Homo sapiens chromosome 7 clone RP11-254L11, complete sequence\n",
      "XM_050782505-e-value:0.0-length:3511\n",
      "sequência:gi|2309459600|ref|XM_050782505.1| PREDICTED: Macaca thibetana thibetana KLF transcription factor 14 (LOC126949725), mRNA\n",
      "XM_003896608-e-value:0.0-length:3439\n",
      "sequência:gi|1220208198|ref|XM_003896608.4| PREDICTED: Papio anubis Kruppel like factor 14 (KLF14), mRNA\n",
      "XM_015134908-e-value:0.0-length:3403\n",
      "sequência:gi|1622919941|ref|XM_015134908.2| PREDICTED: Macaca mulatta Kruppel like factor 14 (KLF14), mRNA\n",
      "XM_012088095-e-value:0.0-length:3338\n",
      "sequência:gi|795403252|ref|XM_012088095.1| PREDICTED: Cercocebus atys Kruppel-like factor 14 (KLF14), mRNA\n",
      "XM_024131928-e-value:0.0-length:3514\n",
      "sequência:gi|1595762478|ref|XM_024131928.2| PREDICTED: Physeter catodon Kruppel like factor 14 (KLF14), mRNA\n",
      "XM_032484379-e-value:0.0-length:3513\n",
      "sequência:gi|1811071878|ref|XM_032484379.1| PREDICTED: Camelus ferus Kruppel like factor 14 (KLF14), mRNA\n",
      "XM_033863276-e-value:0.0-length:3549\n",
      "sequência:gi|1835253206|ref|XM_033863276.1| PREDICTED: Tursiops truncatus Kruppel like factor 14 (KLF14), mRNA\n",
      "XM_036078243-e-value:0.0-length:3538\n",
      "sequência:gi|1899970704|ref|XM_036078243.1| PREDICTED: Halichoerus grypus Kruppel like factor 14 (KLF14), mRNA\n",
      "XM_027101909-e-value:0.0-length:3554\n",
      "sequência:gi|1516086623|ref|XM_027101909.1| PREDICTED: Lagenorhynchus obliquidens Kruppel like factor 14 (KLF14), mRNA\n",
      "XM_030853833-e-value:0.0-length:3515\n",
      "sequência:gi|1746169887|ref|XM_030853833.1| PREDICTED: Globicephala melas Kruppel like factor 14 (KLF14), mRNA\n",
      "XM_004272188-e-value:0.0-length:3544\n",
      "sequência:gi|2280724715|ref|XM_004272188.4| PREDICTED: Orcinus orca KLF transcription factor 14 (LOC101270875), mRNA\n",
      "XM_004741996-e-value:0.0-length:3525\n",
      "sequência:gi|2130915547|ref|XM_004741996.3| PREDICTED: Mustela putorius furo Kruppel like factor 14 (KLF14), mRNA\n",
      "CP071569-e-value:0.0-length:3571\n",
      "sequência:gi|2023428935|gb|CP071569.1| Sus scrofa scrofa breed NS chromosome 18\n",
      "XM_043590472-e-value:0.0-length:3393\n",
      "sequência:gi|2092002484|ref|XM_043590472.1| PREDICTED: Prionailurus bengalensis Kruppel like factor 14 (KLF14), mRNA\n",
      "XM_040471943-e-value:0.0-length:3413\n",
      "sequência:gi|2020749753|ref|XM_040471943.1| PREDICTED: Puma yagouaroundi Kruppel like factor 14 (KLF14), mRNA\n",
      "XM_027075494-e-value:0.0-length:3395\n",
      "sequência:gi|1512020456|ref|XM_027075494.1| PREDICTED: Acinonyx jubatus Kruppel like factor 14 (KLF14), mRNA\n",
      "XM_019452767-e-value:0.0-length:3396\n",
      "sequência:gi|1111142517|ref|XM_019452767.1| PREDICTED: Panthera pardus Kruppel like factor 14 (KLF14), mRNA\n",
      "XM_045497102-e-value:0.0-length:3397\n",
      "sequência:gi|2166764413|ref|XM_045497102.1| PREDICTED: Leopardus geoffroyi Kruppel like factor 14 (KLF14), transcript variant X1, mRNA\n",
      "XM_023250574-e-value:0.0-length:3395\n",
      "sequência:gi|1304888989|ref|XM_023250574.1| PREDICTED: Felis catus Kruppel like factor 14 (KLF14), mRNA\n",
      "XM_032305912-e-value:0.0-length:3170\n",
      "sequência:gi|1804792636|ref|XM_032305912.1| PREDICTED: Mustela erminea Kruppel like factor 14 (KLF14), transcript variant X4, mRNA\n",
      "XM_025291541-e-value:0.0-length:3479\n",
      "sequência:gi|2148426095|ref|XM_025291541.3| PREDICTED: Bubalus bubalis Kruppel like factor 14 (KLF14), mRNA\n",
      "XM_027538972-e-value:0.0-length:3489\n",
      "sequência:gi|1542945803|ref|XM_027538972.1| PREDICTED: Bos indicus x Bos taurus Kruppel like factor 14 (KLF14), mRNA\n",
      "XM_003845968-e-value:0.0-length:1623\n",
      "sequência:gi|1849170902|ref|XM_003845968.4| PREDICTED: Pan paniscus Kruppel like factor 14 (KLF14), mRNA\n",
      "XM_003318801-e-value:0.0-length:1571\n",
      "sequência:gi|1034063511|ref|XM_003318801.3| PREDICTED: Pan troglodytes Kruppel like factor 14 (KLF14), mRNA\n",
      "XM_007982949-e-value:0.0-length:1640\n",
      "sequência:gi|1938861275|ref|XM_007982949.2| PREDICTED: Chlorocebus sabaeus Kruppel like factor 14 (KLF14), mRNA\n",
      "XM_033192897-e-value:0.0-length:1636\n",
      "sequência:gi|1825929198|ref|XM_033192897.1| PREDICTED: Trachypithecus francoisi Kruppel like factor 14 (KLF14), mRNA\n",
      "XM_005550797-e-value:0.0-length:1609\n",
      "sequência:gi|2161896150|ref|XM_005550797.3| PREDICTED: Macaca fascicularis Kruppel like factor 14 (KLF14), mRNA\n",
      "XM_036909005-e-value:0.0-length:2494\n",
      "sequência:gi|1920325892|ref|XM_036909005.1| PREDICTED: Manis pentadactyla Kruppel like factor 14 (KLF14), mRNA\n",
      "XM_031013429-e-value:0.0-length:1474\n",
      "sequência:gi|1753082652|ref|XM_031013429.1| PREDICTED: Gorilla gorilla gorilla Kruppel like factor 14 (KLF14), mRNA\n",
      "XM_030933238-e-value:0.0-length:1610\n",
      "sequência:gi|1751286530|ref|XM_030933238.1| PREDICTED: Rhinopithecus roxellana Kruppel like factor 14 (KLF14), mRNA\n",
      "XM_003261343-e-value:0.0-length:1466\n",
      "sequência:gi|1743157285|ref|XM_003261343.3| PREDICTED: Nomascus leucogenys Kruppel like factor 14 (KLF14), mRNA\n",
      "XM_024250382-e-value:0.0-length:1466\n",
      "sequência:gi|1351511102|ref|XM_024250382.1| PREDICTED: Pongo abelii Kruppel like factor 14 (KLF14), mRNA\n",
      "DQ534757-e-value:0.0-length:1426\n",
      "sequência:gi|106709181|gb|DQ534757.1| Homo sapiens Kruppel-like factor 14 (KLF14) mRNA, complete cds\n",
      "XM_047763546-e-value:0.0-length:2204\n",
      "sequência:gi|2225025468|ref|XM_047763546.1| PREDICTED: Phacochoerus africanus Krueppel-like factor 14 (LOC125117576), transcript variant X1, mRNA\n",
      "XM_032753544-e-value:0.0-length:1443\n",
      "sequência:gi|1820543689|ref|XM_032753544.1| PREDICTED: Hylobates moloch Kruppel like factor 14 (KLF14), mRNA\n",
      "AF490374-e-value:0.0-length:1384\n",
      "sequência:gi|19919729|gb|AF490374.1| Homo sapiens BTEB5 mRNA, complete cds\n",
      "XM_035254713-e-value:0.0-length:1597\n",
      "sequência:gi|1864512387|ref|XM_035254713.1| PREDICTED: Callithrix jacchus Kruppel like factor 14 (KLF14), mRNA\n",
      "XM_025380901-e-value:0.0-length:1466\n",
      "sequência:gi|1411148840|ref|XM_025380901.1| PREDICTED: Theropithecus gelada Kruppel like factor 14 (KLF14), mRNA\n",
      "XM_011723825-e-value:0.0-length:1466\n",
      "sequência:gi|795574486|ref|XM_011723825.1| PREDICTED: Macaca nemestrina Kruppel like factor 14 (KLF14), mRNA\n",
      "XM_012473957-e-value:0.0-length:1580\n",
      "sequência:gi|1212357895|ref|XM_012473957.2| PREDICTED: Aotus nancymaae Kruppel like factor 14 (KLF14), mRNA\n",
      "XM_049623634-e-value:0.0-length:2115\n",
      "sequência:gi|2277574273|ref|XM_049623634.1| PREDICTED: Panthera uncia Krueppel-like factor 14 (LOC125917433), mRNA >gi|2277576908|ref|XM_049624383.1| PREDICTED: Panthera uncia Krueppel-like factor 14 (LOC125918382), mRNA\n",
      "XM_023207822-e-value:0.0-length:1466\n",
      "sequência:gi|1297629831|ref|XM_023207822.1| PREDICTED: Piliocolobus tephrosceles Kruppel like factor 14 (KLF14), mRNA\n",
      "XM_007469724-e-value:0.0-length:1973\n",
      "sequência:gi|602719230|ref|XM_007469724.1| PREDICTED: Lipotes vexillifer Kruppel-like factor 14 (KLF14), mRNA\n",
      "XM_032643554-e-value:0.0-length:1975\n",
      "sequência:gi|1814742516|ref|XM_032643554.1| PREDICTED: Phocoena sinus Kruppel like factor 14 (KLF14), mRNA\n",
      "XM_022589472-e-value:0.0-length:1971\n",
      "sequência:gi|1246149598|ref|XM_022589472.1| PREDICTED: Delphinapterus leucas Kruppel like factor 14 (KLF14), mRNA\n"
     ]
    }
   ],
   "source": [
    "resultado=[]\n",
    "for alignment in record.alignments:\n",
    "    evalue=alignment.hsps[0].expect\n",
    "    accession=alignment.accession\n",
    "    length=alignment.hsps[0].align_length\n",
    "    sequence=alignment.title\n",
    "    resultado.append(str(accession)+ \"-\" + \"e-value:\" +str(evalue) + \"-\" + \"length:\" + str(length) + \"\\nsequência:\" + str(sequence))\n",
    "print(\"E-values e comprimento dos alinhamentos obtidos:\")\n",
    "print(\"\")\n",
    "for s in resultado:\n",
    "    print(s)"
   ]
  },
  {
   "cell_type": "code",
   "execution_count": null,
   "id": "3f446258",
   "metadata": {},
   "outputs": [],
   "source": []
  }
 ],
 "metadata": {
  "kernelspec": {
   "display_name": "Python 3 (ipykernel)",
   "language": "python",
   "name": "python3"
  },
  "language_info": {
   "codemirror_mode": {
    "name": "ipython",
    "version": 3
   },
   "file_extension": ".py",
   "mimetype": "text/x-python",
   "name": "python",
   "nbconvert_exporter": "python",
   "pygments_lexer": "ipython3",
   "version": "3.9.12"
  }
 },
 "nbformat": 4,
 "nbformat_minor": 5
}
