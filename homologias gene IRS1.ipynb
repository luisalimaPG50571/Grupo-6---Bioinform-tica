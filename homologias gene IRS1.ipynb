{
 "cells": [
  {
   "cell_type": "code",
   "execution_count": 1,
   "id": "005fb346",
   "metadata": {},
   "outputs": [],
   "source": [
    "from Bio.Blast import NCBIXML\n",
    "from Bio.Blast import NCBIWWW\n",
    "from Bio import SeqIO"
   ]
  },
  {
   "cell_type": "code",
   "execution_count": 7,
   "id": "89086eec",
   "metadata": {
    "scrolled": true
   },
   "outputs": [],
   "source": [
    "seq_IRS1 = SeqIO.read(open(\"IRS1.fasta\"), format=\"fasta\")\n",
    "\n",
    "\n"
   ]
  },
  {
   "cell_type": "code",
   "execution_count": 9,
   "id": "cc7e83ec",
   "metadata": {},
   "outputs": [],
   "source": [
    "# realizar o blast com a sequencia do gene anterior\n",
    "# registar o resultado num ficheiro formato .xml\n",
    "\n",
    "result_handle = NCBIWWW.qblast(\"blastn\", \"nt\", seq_IRS1.format(\"fasta\"))\n",
    "file_save = open (\"my_blast_IRS1.xml\", \"w\")\n",
    "file_save.write(result_handle.read())\n",
    "file_save.close()\n",
    "result_handle.close()"
   ]
  },
  {
   "cell_type": "code",
   "execution_count": 10,
   "id": "cd5ecafd",
   "metadata": {},
   "outputs": [],
   "source": [
    "#analisa-se os parametros gerais da pesquisa\n",
    "\n",
    "result_handle = open(\"my_blast_IRS1.xml\")\n",
    "record = NCBIXML.read(result_handle)\n",
    "\n",
    "    "
   ]
  },
  {
   "cell_type": "code",
   "execution_count": 11,
   "id": "06a54bc4",
   "metadata": {},
   "outputs": [
    {
     "name": "stdout",
     "output_type": "stream",
     "text": [
      "Parâmetros\n",
      "Database: nt\n",
      "Matrix: \n",
      "Gap penalties: (5, 2)\n"
     ]
    }
   ],
   "source": [
    "print(\"Parâmetros\")\n",
    "print(\"Database:\" , record.database)\n",
    "print(\"Matrix:\", record.matrix)\n",
    "print(\"Gap penalties:\", record.gap_penalties)"
   ]
  },
  {
   "cell_type": "code",
   "execution_count": 13,
   "id": "536af644",
   "metadata": {},
   "outputs": [
    {
     "name": "stdout",
     "output_type": "stream",
     "text": [
      "Sequências homólogas:\n",
      "\n"
     ]
    }
   ],
   "source": [
    "#verifica o numero de alinhamentos e analisa com pormenor o primeiro destes\n",
    "# accession numbers - identificador único dado a uma sequência de polímero biológico \n",
    "#quando é submetido a um banco de dados de sequências\n",
    "#e-value- probabilidade de alinhamento aleatório:\n",
    "#(cálculo estatístico - baseado na qualidade do alinhamento (a pontuação) e no tamanho do banco de dados)\n",
    "\n",
    "e_value_threshold = 0.0000001\n",
    "c = len(seq_IRS1.seq)\n",
    "\n",
    "print(\"Sequências homólogas:\")\n",
    "print(\"\")\n",
    "for alignment in record.alignments:\n",
    "    for hsp in aligment.hsps:\n",
    "        n=hsp.align_length\n",
    "        i=(hsp.identities/n)\n",
    "        q=(n/c)\n",
    "        p=(hsp.positives/n)\n",
    "        if hsp.expect < e_value_threshold and q>=0.9 and i>=0.9:\n",
    "            print(\"Acesso:\" , alignment.accession)\n",
    "            print(\"Hit id:\" , alignment.hit_id, \"\\n\")\n",
    "            print(\"E-value:\" , hsp.expect)\n",
    "            print(\"Comprimento:\", hsp.align_length)\n",
    "            print(\"Identidade:\" , (i*100), \"%\")\n",
    "            print(\"Query cover:\" , (q*100), \"%\")\n",
    "            print(\"Positivies:\", (p*100), \"%\", \"\\n\")\n",
    "            print(\"Definição:\" ,alignment.hit_def, \"\\n\")\n",
    "            print(\"---Alinhamento----\", \"Query start:\", hsp.query_start, \"Sbjct start:\",hsp_sbjct_start)\n",
    "        "
   ]
  },
  {
   "cell_type": "code",
   "execution_count": null,
   "id": "f898e267",
   "metadata": {},
   "outputs": [],
   "source": []
  }
 ],
 "metadata": {
  "kernelspec": {
   "display_name": "Python 3 (ipykernel)",
   "language": "python",
   "name": "python3"
  },
  "language_info": {
   "codemirror_mode": {
    "name": "ipython",
    "version": 3
   },
   "file_extension": ".py",
   "mimetype": "text/x-python",
   "name": "python",
   "nbconvert_exporter": "python",
   "pygments_lexer": "ipython3",
   "version": "3.9.12"
  }
 },
 "nbformat": 4,
 "nbformat_minor": 5
}
