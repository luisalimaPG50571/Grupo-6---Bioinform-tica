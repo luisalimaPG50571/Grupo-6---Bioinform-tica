{
 "cells": [
  {
   "cell_type": "code",
   "execution_count": 1,
   "id": "0f15f663",
   "metadata": {},
   "outputs": [],
   "source": [
    "from Bio.Blast import NCBIXML\n",
    "from Bio.Blast import NCBIWWW\n",
    "from Bio import SeqIO\n",
    "from Bio import Entrez"
   ]
  },
  {
   "cell_type": "code",
   "execution_count": 2,
   "id": "0e5d3f50",
   "metadata": {},
   "outputs": [],
   "source": [
    "seqrecord=SeqIO.read(open(\"IRS1.fasta\"), format=\"fasta\")"
   ]
  },
  {
   "cell_type": "code",
   "execution_count": 3,
   "id": "e12270e1",
   "metadata": {},
   "outputs": [],
   "source": [
    "result_handle=NCBIWWW.qblast(\"blastn\",\"nt\", seqrecord.format(\"fasta\"))"
   ]
  },
  {
   "cell_type": "code",
   "execution_count": 4,
   "id": "5a5e1420",
   "metadata": {},
   "outputs": [],
   "source": [
    "save_file=open(\"blast-IRS1.xml\",\"w\")\n",
    "save_file.write(result_handle.read())\n",
    "save_file.close()\n",
    "result_handle.close()"
   ]
  },
  {
   "cell_type": "code",
   "execution_count": 5,
   "id": "a3bc98b5",
   "metadata": {},
   "outputs": [],
   "source": [
    "result_handle=open(\"blast-IRS1.xml\")\n",
    "record=NCBIXML.read(result_handle)"
   ]
  },
  {
   "cell_type": "code",
   "execution_count": 6,
   "id": "68624793",
   "metadata": {},
   "outputs": [
    {
     "name": "stdout",
     "output_type": "stream",
     "text": [
      "Parâmetros Globais:\n",
      "Base de dados: nt\n",
      "Matriz de substituição: \n",
      "Parâmetros de espaçamento: (5, 2)\n"
     ]
    }
   ],
   "source": [
    "print(\"Parâmetros Globais:\")\n",
    "print(\"Base de dados:\",record.database)\n",
    "print(\"Matriz de substituição:\",record.matrix)\n",
    "print(\"Parâmetros de espaçamento:\",record.gap_penalties)"
   ]
  },
  {
   "cell_type": "code",
   "execution_count": 7,
   "id": "ea7f0668",
   "metadata": {},
   "outputs": [
    {
     "name": "stdout",
     "output_type": "stream",
     "text": [
      "número de alinhamentos: 0\n"
     ]
    }
   ],
   "source": [
    "nhits=len(record.alignments)\n",
    "print(\"número de alinhamentos:\", nhits)"
   ]
  },
  {
   "cell_type": "code",
   "execution_count": 8,
   "id": "3686bc95",
   "metadata": {},
   "outputs": [],
   "source": [
    "Entrez.email=\"joanaipborges@gmail.com\""
   ]
  },
  {
   "cell_type": "code",
   "execution_count": 9,
   "id": "e58c704c",
   "metadata": {},
   "outputs": [
    {
     "name": "stdout",
     "output_type": "stream",
     "text": [
      "E-values e comprimento dos alinhamentos obtidos:\n",
      "\n"
     ]
    }
   ],
   "source": [
    "resultado=[]\n",
    "for alignment in record.alignments:\n",
    "    evalue=aligment.hsps[0].expect\n",
    "    accession=alignment.accession\n",
    "    lenght=alignment.hsps[0].align_length\n",
    "    sequence=alignment.title\n",
    "    resultado.append(str(accession)+ \"-\" + \"e-value:\" +str(evalue) + \"-\" + \"length:\" + str(length) + \"\\nsequência:\" + str(sequence))\n",
    "print(\"E-values e comprimento dos alinhamentos obtidos:\")\n",
    "print(\"\")\n",
    "for s in resultado:\n",
    "    print(s)"
   ]
  },
  {
   "cell_type": "code",
   "execution_count": null,
   "id": "fa411d58",
   "metadata": {},
   "outputs": [],
   "source": []
  }
 ],
 "metadata": {
  "kernelspec": {
   "display_name": "Python 3 (ipykernel)",
   "language": "python",
   "name": "python3"
  },
  "language_info": {
   "codemirror_mode": {
    "name": "ipython",
    "version": 3
   },
   "file_extension": ".py",
   "mimetype": "text/x-python",
   "name": "python",
   "nbconvert_exporter": "python",
   "pygments_lexer": "ipython3",
   "version": "3.9.12"
  }
 },
 "nbformat": 4,
 "nbformat_minor": 5
}
