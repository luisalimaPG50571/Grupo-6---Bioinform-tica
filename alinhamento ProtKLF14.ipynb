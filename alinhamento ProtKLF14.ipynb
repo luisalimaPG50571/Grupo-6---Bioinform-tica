{
 "cells": [
  {
   "cell_type": "code",
   "execution_count": 1,
   "id": "097e1cec",
   "metadata": {},
   "outputs": [],
   "source": [
    "from Bio.Blast import NCBIXML\n",
    "from Bio.Blast import NCBIWWW\n",
    "from Bio import SeqIO\n",
    "from Bio import Entrez\n"
   ]
  },
  {
   "cell_type": "code",
   "execution_count": 2,
   "id": "925e992f",
   "metadata": {},
   "outputs": [],
   "source": [
    "#Este ficheiro guarda em formato fasta as sequências homólogas obtidas para poderem servir de input para programas de construção de árvores filogenéticas\n",
    "registo=SeqIO.read(open(\"ProtKLF14.fasta\"), format=\"fasta\")"
   ]
  },
  {
   "cell_type": "code",
   "execution_count": 3,
   "id": "2c24c011",
   "metadata": {},
   "outputs": [],
   "source": [
    "result_handle=NCBIWWW.qblast(\"blastp\", \"nr\", registo.format(\"fasta\"))"
   ]
  },
  {
   "cell_type": "code",
   "execution_count": 4,
   "id": "b22c7547",
   "metadata": {},
   "outputs": [],
   "source": [
    "save_file=open(\"blast-ProtKLF14.xml\",\"w\")\n",
    "save_file.write(result_handle.read())\n",
    "save_file.close()\n",
    "result_handle.close()"
   ]
  },
  {
   "cell_type": "code",
   "execution_count": 5,
   "id": "b444dd6a",
   "metadata": {},
   "outputs": [],
   "source": [
    "result_handle=open(\"blast-ProtKLF14.xml\")\n",
    "record=NCBIXML.read(result_handle)"
   ]
  },
  {
   "cell_type": "code",
   "execution_count": 6,
   "id": "eb4499d0",
   "metadata": {},
   "outputs": [
    {
     "name": "stdout",
     "output_type": "stream",
     "text": [
      "number hits: 50\n"
     ]
    }
   ],
   "source": [
    "nhits=len(record.alignments)\n",
    "print(\"number hits:\", nhits)\n",
    "\n",
    "Entrez.email='joanaipborges@gmail.com'"
   ]
  },
  {
   "cell_type": "code",
   "execution_count": 7,
   "id": "733c9c5a",
   "metadata": {},
   "outputs": [
    {
     "name": "stdout",
     "output_type": "stream",
     "text": [
      "E-values and length of alignments:\n",
      "NP_619638-0.0length:323\n",
      "ABF82393-0.0length:323\n",
      "KAI2547945-0.0length:323\n",
      "AAI60035-0.0length:323\n",
      "XP_003318849-0.0length:323\n",
      "XP_003261391-0.0length:323\n",
      "XP_024106150-0.0length:323\n",
      "XP_003896657-0.0length:323\n",
      "XP_025236686-0.0length:323\n",
      "XP_011943485-0.0length:323\n",
      "XP_023063590-0.0length:323\n",
      "XP_005550854-0.0length:323\n",
      "XP_030789098-0.0length:325\n",
      "XP_032609435-0.0length:316\n",
      "XP_005550854-0.0length:323\n",
      "XP_007981140-0.0length:323\n",
      "XP_035110604-0.0length:323\n",
      "XP_032131849-0.0length:323\n",
      "XP_033048788-0.0length:323\n",
      "XP_010341334-5.56889e-180length:323\n",
      "XP_017388022-2.80211e-176length:323\n",
      "XP_042783572-7.59524e-175length:323\n",
      "XP_032161800-6.86642e-174length:323\n",
      "XP_004742053-9.74892e-174length:323\n",
      "XP_012329380-3.67313e-173length:325\n",
      "XP_047550747-4.0393e-172length:323\n",
      "XP_022365788-5.86186e-172length:323\n",
      "XP_044102963-1.20775e-171length:323\n",
      "XP_032722471-1.86691e-170length:323\n",
      "XP_047418057-1.26561e-168length:305\n",
      "XP_032954485-2.50807e-167length:321\n",
      "XP_014685965-3.94168e-167length:323\n",
      "XP_045876073-1.35859e-166length:323\n",
      "XP_015390403-1.26835e-165length:323\n",
      "XP_004430815-1.8006e-165length:323\n",
      "VFV32794-2.64156e-165length:323\n",
      "XP_039716785-1.68592e-164length:324\n",
      "XP_043446407-2.28389e-164length:323\n",
      "XP_023106342-4.036e-164length:323\n",
      "XP_004856520-5.08455e-164length:305\n",
      "XP_043318345-5.42428e-164length:323\n",
      "XP_036764900-9.90556e-164length:323\n",
      "KAB0341257-1.39088e-163length:323\n",
      "XP_020736357-2.25172e-163length:323\n",
      "XP_035934136-2.37843e-163length:323\n",
      "XP_027430213-3.19652e-163length:323\n",
      "XP_025710559-5.96645e-163length:323\n",
      "XP_021555029-2.26893e-162length:323\n",
      "XP_034877013-4.37637e-162length:323\n",
      "XP_032257186-5.27165e-162length:323\n"
     ]
    }
   ],
   "source": [
    "res=[]\n",
    "for alignment in record.alignments:\n",
    "    evalue=alignment.hsps[0].expect\n",
    "    acession=alignment.accession\n",
    "    leng=alignment.hsps[0].align_length\n",
    "    \n",
    "    #guardar em ficheiro fasta as sequências homólogas obtidas\n",
    "    handle=Entrez.efetch(db=\"protein\", id=acession, rettype=\"fasta\", retmode=\"text\")\n",
    "    seq_record=SeqIO.read(handle,\"fasta\")\n",
    "    SeqIO.write(seq_record, acession + '.fasta', \"fasta\")\n",
    "    handle.close()\n",
    "    \n",
    "    res.append(acession + \"-\" + str(evalue) + \"length:\" + str(leng))\n",
    "print(\"E-values and length of alignments:\")\n",
    "for s in res: print(s)"
   ]
  },
  {
   "cell_type": "code",
   "execution_count": null,
   "id": "3bcb30dc",
   "metadata": {},
   "outputs": [],
   "source": []
  }
 ],
 "metadata": {
  "kernelspec": {
   "display_name": "Python 3 (ipykernel)",
   "language": "python",
   "name": "python3"
  },
  "language_info": {
   "codemirror_mode": {
    "name": "ipython",
    "version": 3
   },
   "file_extension": ".py",
   "mimetype": "text/x-python",
   "name": "python",
   "nbconvert_exporter": "python",
   "pygments_lexer": "ipython3",
   "version": "3.9.12"
  }
 },
 "nbformat": 4,
 "nbformat_minor": 5
}
